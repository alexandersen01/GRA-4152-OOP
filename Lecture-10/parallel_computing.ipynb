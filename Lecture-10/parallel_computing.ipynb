{
 "cells": [
  {
   "cell_type": "code",
   "execution_count": 2,
   "metadata": {
    "id": "YMi_5VYpd3To"
   },
   "outputs": [],
   "source": [
    "import numba\n",
    "import numpy as np\n",
    "from numba import jit, prange, njit\n",
    "import random\n",
    "from itertools import combinations\n",
    "import statsmodels.api as sm\n",
    "import pandas as pd\n",
    "import timeit\n",
    "from sklearn.neural_network import MLPClassifier\n",
    "import warnings\n",
    "from multiprocessing.pool import Pool\n",
    "import multiprocessing as mp\n",
    "warnings.filterwarnings(\"ignore\")"
   ]
  },
  {
   "cell_type": "markdown",
   "metadata": {
    "id": "rAtSaj_y2rr5"
   },
   "source": [
    "# Parallel Computing in Python\n",
    "Get the number of cores in your computer"
   ]
  },
  {
   "cell_type": "code",
   "execution_count": 3,
   "metadata": {
    "colab": {
     "base_uri": "https://localhost:8080/"
    },
    "executionInfo": {
     "elapsed": 299,
     "status": "ok",
     "timestamp": 1666177702209,
     "user": {
      "displayName": "rogelio andrade",
      "userId": "17933401457496596047"
     },
     "user_tz": -120
    },
    "id": "jWfjvHEjhGaM",
    "outputId": "9216d6a3-b7f3-4b2e-8ff6-dc92f043c501"
   },
   "outputs": [
    {
     "name": "stdout",
     "output_type": "stream",
     "text": [
      "We are working on 8 cores\n"
     ]
    }
   ],
   "source": [
    "c = mp.cpu_count()\n",
    "print('We are working on {} cores'.format(c))"
   ]
  },
  {
   "cell_type": "markdown",
   "metadata": {
    "id": "u0bYhdw43G6O"
   },
   "source": [
    "## Matrix multiplication\n",
    "The `@jit` decorator works best on numerical functions that use `numpy`. It has two modes: nopython mode and object mode. Setting nopython=True tell the compiler to overlook the involvement of the Python interpreter when running the entire decorated function."
   ]
  },
  {
   "cell_type": "code",
   "execution_count": 4,
   "metadata": {
    "id": "zgpYpFGFd4go"
   },
   "outputs": [],
   "source": [
    "# a function that does multiple matrix multiplication\n",
    "@jit(nopython=True)\n",
    "def matrix_multiplication(A, x):\n",
    "    b = np.empty(shape=(x.shape[0],1), dtype=np.float64)\n",
    "    for i in range(x.shape[0]):\n",
    "        b[i] = np.dot(A[i,:], x)\n",
    "    return b"
   ]
  },
  {
   "cell_type": "markdown",
   "metadata": {
    "id": "c0-liohy3vQI"
   },
   "source": [
    "Generate some random matrices and time the function `matrix_multiplication`\n"
   ]
  },
  {
   "cell_type": "code",
   "execution_count": 5,
   "metadata": {
    "colab": {
     "base_uri": "https://localhost:8080/"
    },
    "executionInfo": {
     "elapsed": 3276,
     "status": "ok",
     "timestamp": 1666177726658,
     "user": {
      "displayName": "rogelio andrade",
      "userId": "17933401457496596047"
     },
     "user_tz": -120
    },
    "id": "h6upONBgeElw",
    "outputId": "942778ef-2a30-49a6-db7a-f61956a9076b"
   },
   "outputs": [
    {
     "name": "stdout",
     "output_type": "stream",
     "text": [
      "The slowest run took 13.35 times longer than the fastest. This could mean that an intermediate result is being cached.\n",
      "3.49 μs ± 5.17 μs per loop (mean ± std. dev. of 7 runs, 1 loop each)\n"
     ]
    }
   ],
   "source": [
    "A = np.random.rand(10, 10)\n",
    "x = np.random.rand(10, 1)\n",
    "%timeit matrix_multiplication(A,x)"
   ]
  },
  {
   "cell_type": "markdown",
   "metadata": {
    "id": "Jl-Oionz7YtW"
   },
   "source": [
    "Numba has a special `.py_func` attribute that effectively allows the decorated function to run as the original uncompiled Python function."
   ]
  },
  {
   "cell_type": "code",
   "execution_count": 6,
   "metadata": {
    "colab": {
     "base_uri": "https://localhost:8080/"
    },
    "executionInfo": {
     "elapsed": 16622,
     "status": "ok",
     "timestamp": 1666177901490,
     "user": {
      "displayName": "rogelio andrade",
      "userId": "17933401457496596047"
     },
     "user_tz": -120
    },
    "id": "y1KgVZO0e7iy",
    "outputId": "cdbdb154-83ab-4a11-a9f7-1884ee9e092a"
   },
   "outputs": [
    {
     "name": "stdout",
     "output_type": "stream",
     "text": [
      "5.66 μs ± 221 ns per loop (mean ± std. dev. of 7 runs, 100,000 loops each)\n"
     ]
    }
   ],
   "source": [
    "%timeit matrix_multiplication.py_func(A,x)"
   ]
  },
  {
   "cell_type": "markdown",
   "metadata": {
    "id": "4QfE67HK8Ea4"
   },
   "source": [
    "## Normal distribution\n",
    "The `@jit` decorator can also be used to enable inline parallelization by setting `parallel=True`. Parallelization in `numba` is done via multi-threading, i.e. creates threads of code that are distributed over all cores."
   ]
  },
  {
   "cell_type": "code",
   "execution_count": 7,
   "metadata": {
    "id": "X4d-ujXEe8a_"
   },
   "outputs": [],
   "source": [
    "# simulate mus and stds\n",
    "means = np.random.uniform(-1,1, size=10**8)\n",
    "sds = np.random.uniform(0.1, 0.2, size=10**8)\n",
    "\n",
    "@jit(nopython=True, parallel=True)\n",
    "def normal_parallel(x, means, sds):\n",
    "    n = means.shape[0]\n",
    "    result = np.exp(-0.5*((x - means)/sds)**2)\n",
    "    return (1 / (sds * np.sqrt(2*np.pi))) * result"
   ]
  },
  {
   "cell_type": "code",
   "execution_count": 8,
   "metadata": {
    "colab": {
     "base_uri": "https://localhost:8080/"
    },
    "executionInfo": {
     "elapsed": 230973,
     "status": "ok",
     "timestamp": 1666178256532,
     "user": {
      "displayName": "rogelio andrade",
      "userId": "17933401457496596047"
     },
     "user_tz": -120
    },
    "id": "PcaXvpqvfujR",
    "outputId": "b4b42515-c0f8-4922-8a41-dfba87cb2381"
   },
   "outputs": [
    {
     "name": "stdout",
     "output_type": "stream",
     "text": [
      "161 ms ± 62.7 ms per loop (mean ± std. dev. of 10 runs, 5 loops each)\n"
     ]
    },
    {
     "ename": "KeyboardInterrupt",
     "evalue": "",
     "output_type": "error",
     "traceback": [
      "\u001b[31m---------------------------------------------------------------------------\u001b[39m",
      "\u001b[31mKeyboardInterrupt\u001b[39m                         Traceback (most recent call last)",
      "\u001b[36mCell\u001b[39m\u001b[36m \u001b[39m\u001b[32mIn[8]\u001b[39m\u001b[32m, line 2\u001b[39m\n\u001b[32m      1\u001b[39m get_ipython().run_line_magic(\u001b[33m'\u001b[39m\u001b[33mtimeit\u001b[39m\u001b[33m'\u001b[39m, \u001b[33m'\u001b[39m\u001b[33m-r 10 -n 5 normal_parallel(0.6, means, sds)\u001b[39m\u001b[33m'\u001b[39m)\n\u001b[32m----> \u001b[39m\u001b[32m2\u001b[39m \u001b[43mget_ipython\u001b[49m\u001b[43m(\u001b[49m\u001b[43m)\u001b[49m\u001b[43m.\u001b[49m\u001b[43mrun_line_magic\u001b[49m\u001b[43m(\u001b[49m\u001b[33;43m'\u001b[39;49m\u001b[33;43mtimeit\u001b[39;49m\u001b[33;43m'\u001b[39;49m\u001b[43m,\u001b[49m\u001b[43m \u001b[49m\u001b[33;43m'\u001b[39;49m\u001b[33;43m-r 10 -n 5 normal_parallel.py_func(0.6, means, sds)\u001b[39;49m\u001b[33;43m'\u001b[39;49m\u001b[43m)\u001b[49m\n",
      "\u001b[36mFile \u001b[39m\u001b[32m~/Documents/GRA-4152-OOP/.venv/lib/python3.13/site-packages/IPython/core/interactiveshell.py:2504\u001b[39m, in \u001b[36mInteractiveShell.run_line_magic\u001b[39m\u001b[34m(self, magic_name, line, _stack_depth)\u001b[39m\n\u001b[32m   2502\u001b[39m     kwargs[\u001b[33m'\u001b[39m\u001b[33mlocal_ns\u001b[39m\u001b[33m'\u001b[39m] = \u001b[38;5;28mself\u001b[39m.get_local_scope(stack_depth)\n\u001b[32m   2503\u001b[39m \u001b[38;5;28;01mwith\u001b[39;00m \u001b[38;5;28mself\u001b[39m.builtin_trap:\n\u001b[32m-> \u001b[39m\u001b[32m2504\u001b[39m     result = \u001b[43mfn\u001b[49m\u001b[43m(\u001b[49m\u001b[43m*\u001b[49m\u001b[43margs\u001b[49m\u001b[43m,\u001b[49m\u001b[43m \u001b[49m\u001b[43m*\u001b[49m\u001b[43m*\u001b[49m\u001b[43mkwargs\u001b[49m\u001b[43m)\u001b[49m\n\u001b[32m   2506\u001b[39m \u001b[38;5;66;03m# The code below prevents the output from being displayed\u001b[39;00m\n\u001b[32m   2507\u001b[39m \u001b[38;5;66;03m# when using magics with decorator @output_can_be_silenced\u001b[39;00m\n\u001b[32m   2508\u001b[39m \u001b[38;5;66;03m# when the last Python token in the expression is a ';'.\u001b[39;00m\n\u001b[32m   2509\u001b[39m \u001b[38;5;28;01mif\u001b[39;00m \u001b[38;5;28mgetattr\u001b[39m(fn, magic.MAGIC_OUTPUT_CAN_BE_SILENCED, \u001b[38;5;28;01mFalse\u001b[39;00m):\n",
      "\u001b[36mFile \u001b[39m\u001b[32m~/Documents/GRA-4152-OOP/.venv/lib/python3.13/site-packages/IPython/core/magics/execution.py:1230\u001b[39m, in \u001b[36mExecutionMagics.timeit\u001b[39m\u001b[34m(self, line, cell, local_ns)\u001b[39m\n\u001b[32m   1227\u001b[39m         \u001b[38;5;28;01mif\u001b[39;00m time_number >= \u001b[32m0.2\u001b[39m:\n\u001b[32m   1228\u001b[39m             \u001b[38;5;28;01mbreak\u001b[39;00m\n\u001b[32m-> \u001b[39m\u001b[32m1230\u001b[39m all_runs = \u001b[43mtimer\u001b[49m\u001b[43m.\u001b[49m\u001b[43mrepeat\u001b[49m\u001b[43m(\u001b[49m\u001b[43mrepeat\u001b[49m\u001b[43m,\u001b[49m\u001b[43m \u001b[49m\u001b[43mnumber\u001b[49m\u001b[43m)\u001b[49m\n\u001b[32m   1231\u001b[39m best = \u001b[38;5;28mmin\u001b[39m(all_runs) / number\n\u001b[32m   1232\u001b[39m worst = \u001b[38;5;28mmax\u001b[39m(all_runs) / number\n",
      "\u001b[36mFile \u001b[39m\u001b[32m/opt/homebrew/Cellar/python@3.13/3.13.3_1/Frameworks/Python.framework/Versions/3.13/lib/python3.13/timeit.py:208\u001b[39m, in \u001b[36mTimer.repeat\u001b[39m\u001b[34m(self, repeat, number)\u001b[39m\n\u001b[32m    206\u001b[39m r = []\n\u001b[32m    207\u001b[39m \u001b[38;5;28;01mfor\u001b[39;00m i \u001b[38;5;129;01min\u001b[39;00m \u001b[38;5;28mrange\u001b[39m(repeat):\n\u001b[32m--> \u001b[39m\u001b[32m208\u001b[39m     t = \u001b[38;5;28;43mself\u001b[39;49m\u001b[43m.\u001b[49m\u001b[43mtimeit\u001b[49m\u001b[43m(\u001b[49m\u001b[43mnumber\u001b[49m\u001b[43m)\u001b[49m\n\u001b[32m    209\u001b[39m     r.append(t)\n\u001b[32m    210\u001b[39m \u001b[38;5;28;01mreturn\u001b[39;00m r\n",
      "\u001b[36mFile \u001b[39m\u001b[32m~/Documents/GRA-4152-OOP/.venv/lib/python3.13/site-packages/IPython/core/magics/execution.py:184\u001b[39m, in \u001b[36mTimer.timeit\u001b[39m\u001b[34m(self, number)\u001b[39m\n\u001b[32m    182\u001b[39m gc.disable()\n\u001b[32m    183\u001b[39m \u001b[38;5;28;01mtry\u001b[39;00m:\n\u001b[32m--> \u001b[39m\u001b[32m184\u001b[39m     timing = \u001b[38;5;28;43mself\u001b[39;49m\u001b[43m.\u001b[49m\u001b[43minner\u001b[49m\u001b[43m(\u001b[49m\u001b[43mit\u001b[49m\u001b[43m,\u001b[49m\u001b[43m \u001b[49m\u001b[38;5;28;43mself\u001b[39;49m\u001b[43m.\u001b[49m\u001b[43mtimer\u001b[49m\u001b[43m)\u001b[49m\n\u001b[32m    185\u001b[39m \u001b[38;5;28;01mfinally\u001b[39;00m:\n\u001b[32m    186\u001b[39m     \u001b[38;5;28;01mif\u001b[39;00m gcold:\n",
      "\u001b[36mFile \u001b[39m\u001b[32m<magic-timeit>:1\u001b[39m, in \u001b[36minner\u001b[39m\u001b[34m(_it, _timer)\u001b[39m\n",
      "\u001b[36mCell\u001b[39m\u001b[36m \u001b[39m\u001b[32mIn[7]\u001b[39m\u001b[32m, line 8\u001b[39m, in \u001b[36mnormal_parallel\u001b[39m\u001b[34m(x, means, sds)\u001b[39m\n\u001b[32m      5\u001b[39m \u001b[38;5;129m@jit\u001b[39m(nopython=\u001b[38;5;28;01mTrue\u001b[39;00m, parallel=\u001b[38;5;28;01mTrue\u001b[39;00m)\n\u001b[32m      6\u001b[39m \u001b[38;5;28;01mdef\u001b[39;00m\u001b[38;5;250m \u001b[39m\u001b[34mnormal_parallel\u001b[39m(x, means, sds):\n\u001b[32m      7\u001b[39m     n = means.shape[\u001b[32m0\u001b[39m]\n\u001b[32m----> \u001b[39m\u001b[32m8\u001b[39m     result = \u001b[43mnp\u001b[49m\u001b[43m.\u001b[49m\u001b[43mexp\u001b[49m\u001b[43m(\u001b[49m\u001b[43m-\u001b[49m\u001b[32;43m0.5\u001b[39;49m\u001b[43m*\u001b[49m\u001b[43m(\u001b[49m\u001b[43m(\u001b[49m\u001b[43mx\u001b[49m\u001b[43m \u001b[49m\u001b[43m-\u001b[49m\u001b[43m \u001b[49m\u001b[43mmeans\u001b[49m\u001b[43m)\u001b[49m\u001b[43m/\u001b[49m\u001b[43msds\u001b[49m\u001b[43m)\u001b[49m\u001b[43m*\u001b[49m\u001b[43m*\u001b[49m\u001b[32;43m2\u001b[39;49m\u001b[43m)\u001b[49m\n\u001b[32m      9\u001b[39m     \u001b[38;5;28;01mreturn\u001b[39;00m (\u001b[32m1\u001b[39m / (sds * np.sqrt(\u001b[32m2\u001b[39m*np.pi))) * result\n",
      "\u001b[31mKeyboardInterrupt\u001b[39m: "
     ]
    }
   ],
   "source": [
    "%timeit -r 10 -n 5 normal_parallel(0.6, means, sds)\n",
    "%timeit -r 10 -n 5 normal_parallel.py_func(0.6, means, sds)"
   ]
  },
  {
   "cell_type": "markdown",
   "metadata": {
    "id": "EA8K89Iv_ErL"
   },
   "source": [
    "## Fibonacci sequence"
   ]
  },
  {
   "cell_type": "code",
   "execution_count": null,
   "metadata": {
    "id": "UTcrWe85lkpY"
   },
   "outputs": [],
   "source": [
    "@njit(parallel=True)\n",
    "def fibonacci(n):\n",
    "    a, b = 1, 1\n",
    "    for i in range(n):\n",
    "        a, b = a+b, a\n",
    "    return a"
   ]
  },
  {
   "cell_type": "code",
   "execution_count": null,
   "metadata": {
    "colab": {
     "base_uri": "https://localhost:8080/"
    },
    "executionInfo": {
     "elapsed": 1330,
     "status": "ok",
     "timestamp": 1666179217287,
     "user": {
      "displayName": "rogelio andrade",
      "userId": "17933401457496596047"
     },
     "user_tz": -120
    },
    "id": "OLv3_BLXlout",
    "outputId": "ffaf9282-e82d-481e-84bc-23dfe72512ac"
   },
   "outputs": [
    {
     "name": "stdout",
     "output_type": "stream",
     "text": [
      "910 ns ± 120 ns per loop (mean ± std. dev. of 7 runs, 1000 loops each)\n",
      "40.9 µs ± 1.56 µs per loop (mean ± std. dev. of 7 runs, 1000 loops each)\n"
     ]
    }
   ],
   "source": [
    "%timeit -n 1000 fibonacci(500)\n",
    "%timeit -n 1000 fibonacci.py_func(500)"
   ]
  },
  {
   "cell_type": "markdown",
   "metadata": {
    "id": "Pl-gBW4stScu"
   },
   "source": [
    "## Approximating $\\pi$\n",
    "Let's approximate $\\pi$ using `numba` "
   ]
  },
  {
   "cell_type": "code",
   "execution_count": null,
   "metadata": {
    "id": "F_i1hXgcidek"
   },
   "outputs": [],
   "source": [
    "@njit(parallel=True)\n",
    "def approx_pi(N):\n",
    "    M = 0\n",
    "    for i in range(N):\n",
    "        # Simulate impact coordinates\n",
    "        x = random.uniform(0,1)\n",
    "        y = random.uniform(0,1)\n",
    "\n",
    "        # True if impact happens inside the circle\n",
    "        if x**2 + y**2 <= 1:\n",
    "            M += 1\n",
    "    print('pi',4*M/N)"
   ]
  },
  {
   "cell_type": "code",
   "execution_count": null,
   "metadata": {
    "colab": {
     "base_uri": "https://localhost:8080/"
    },
    "executionInfo": {
     "elapsed": 8710,
     "status": "ok",
     "timestamp": 1666008318867,
     "user": {
      "displayName": "rogelio andrade",
      "userId": "17933401457496596047"
     },
     "user_tz": -120
    },
    "id": "NSfjspoPiiev",
    "outputId": "c287cae8-bf87-4a60-c464-4b3ba5a8f8f5"
   },
   "outputs": [
    {
     "name": "stdout",
     "output_type": "stream",
     "text": [
      "pi 3.1427248\n",
      "303 ms ± 0 ns per loop (mean ± std. dev. of 1 run, 1 loop each)\n",
      "pi 3.14128\n",
      "8.13 s ± 0 ns per loop (mean ± std. dev. of 1 run, 1 loop each)\n"
     ]
    }
   ],
   "source": [
    "sim = 10**7\n",
    "%timeit -r 1 -n 1 approx_pi(sim)\n",
    "%timeit -r 1 -n 1 approx_pi.py_func(sim)"
   ]
  },
  {
   "cell_type": "markdown",
   "metadata": {
    "id": "UHN9-1Fmtd7R"
   },
   "source": [
    "Now let's use `multiprocessing`"
   ]
  },
  {
   "cell_type": "code",
   "execution_count": null,
   "metadata": {
    "id": "NTUQol0dmlrT"
   },
   "outputs": [],
   "source": [
    "def approx_pi(N):\n",
    "    M = 0\n",
    "    for i in range(N):\n",
    "        # Simulate impact coordinates\n",
    "        x = random.uniform(0,1)\n",
    "        y = random.uniform(0,1)\n",
    "\n",
    "        # True if impact happens inside the circle\n",
    "        if x**2 + y**2 <= 1:\n",
    "            M += 1\n",
    "    return M"
   ]
  },
  {
   "cell_type": "code",
   "execution_count": null,
   "metadata": {
    "id": "20nFQ-PDu3Tk"
   },
   "outputs": [],
   "source": [
    "def f():\n",
    "  # split sim equally among cores\n",
    "  chunks = [int(sim/c) for i in range(c)]\n",
    "  start = timeit.default_timer()\n",
    "  with Pool(c) as pool:\n",
    "    count = pool.map(approx_pi,chunks)\n",
    "  print('elapsed time {} secs'.format(round(timeit.default_timer()-start,2)))\n",
    "  print('pi',4*sum(count)/sim)"
   ]
  },
  {
   "cell_type": "code",
   "execution_count": null,
   "metadata": {
    "colab": {
     "base_uri": "https://localhost:8080/"
    },
    "executionInfo": {
     "elapsed": 10108,
     "status": "ok",
     "timestamp": 1666008262897,
     "user": {
      "displayName": "rogelio andrade",
      "userId": "17933401457496596047"
     },
     "user_tz": -120
    },
    "id": "Rwmk9L7PvJuH",
    "outputId": "0e041219-83e4-4d93-8956-c34f5c69a363"
   },
   "outputs": [
    {
     "name": "stdout",
     "output_type": "stream",
     "text": [
      "elapsed time 9.75 secs\n",
      "pi 3.141016\n"
     ]
    }
   ],
   "source": [
    "f()"
   ]
  }
 ],
 "metadata": {
  "colab": {
   "authorship_tag": "ABX9TyOa/kP71oCjL/yJP/Ig6owI",
   "provenance": []
  },
  "kernelspec": {
   "display_name": ".venv",
   "language": "python",
   "name": "python3"
  },
  "language_info": {
   "codemirror_mode": {
    "name": "ipython",
    "version": 3
   },
   "file_extension": ".py",
   "mimetype": "text/x-python",
   "name": "python",
   "nbconvert_exporter": "python",
   "pygments_lexer": "ipython3",
   "version": "3.13.3"
  }
 },
 "nbformat": 4,
 "nbformat_minor": 0
}
